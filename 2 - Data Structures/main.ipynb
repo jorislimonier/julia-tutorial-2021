{
 "cells": [
  {
   "cell_type": "markdown",
   "metadata": {},
   "source": [
    "# Data structures\n",
    "\n",
    "Data structures are way to, well, as the name says structure your data. Or, as [Wikipedia](https://en.wikipedia.org/wiki/Data_structure \"Wikipedia Data Structures\") puts it:\n",
    "\n",
    "> In computer science, a data structure is a data organization, management, and storage format that enables efficient access and modification.\n",
    "\n",
    "We will cover the following data structures in this tutorial:\n",
    "\n",
    "1. Tuples\n",
    "2. Sets\n",
    "3. Dictionaries\n",
    "4. Arrays\n",
    "\n",
    "|                   | Ordered | Mutable |\n",
    "| :--------------:  |  :---:  | :-----: |\n",
    "| **Tuples**        |   Yes   |   No    |\n",
    "| **Sets**          |   No    |   No    |\n",
    "| **Dictionaries**  |   No    |   Yes   |\n",
    "| **Arrays**        |   Yes   |   Yes   |\n",
    "\n",
    "#### What do \"ordered\" and \"mutable\" mean anyway ?\n",
    "\n",
    "**Ordered:** You can tell Julia « take the third element in my array / tuple ».\\\n",
    "**Mutable:** You can tell Julia « change this element of my array/dictionary to 42 »."
   ]
  },
  {
   "cell_type": "markdown",
   "metadata": {},
   "source": [
    "## Tuples"
   ]
  },
  {
   "cell_type": "code",
   "execution_count": 1,
   "metadata": {},
   "outputs": [
    {
     "data": {
      "text/plain": [
       "(\"ABC\", \"easy as one two three\")"
      ]
     },
     "execution_count": 1,
     "metadata": {},
     "output_type": "execute_result"
    }
   ],
   "source": [
    "my_tup = (\"ABC\", \"easy as one two three\")"
   ]
  },
  {
   "cell_type": "code",
   "execution_count": 2,
   "metadata": {},
   "outputs": [
    {
     "ename": "LoadError",
     "evalue": "MethodError: no method matching setindex!(::Tuple{String, String}, ::String, ::Int64)",
     "output_type": "error",
     "traceback": [
      "MethodError: no method matching setindex!(::Tuple{String, String}, ::String, ::Int64)",
      "",
      "Stacktrace:",
      " [1] top-level scope",
      "   @ In[2]:1",
      " [2] eval",
      "   @ ./boot.jl:360 [inlined]",
      " [3] include_string(mapexpr::typeof(REPL.softscope), mod::Module, code::String, filename::String)",
      "   @ Base ./loading.jl:1094"
     ]
    }
   ],
   "source": [
    "my_tup[1] = \"DEF\" # doesn't work, tuples are immutable"
   ]
  },
  {
   "cell_type": "markdown",
   "metadata": {},
   "source": [
    "## Sets\n",
    "Similar to a mathematical set. Elements are unique."
   ]
  },
  {
   "cell_type": "code",
   "execution_count": 3,
   "metadata": {},
   "outputs": [
    {
     "data": {
      "text/plain": [
       "Set{Int64} with 3 elements:\n",
       "  2\n",
       "  3\n",
       "  1"
      ]
     },
     "execution_count": 3,
     "metadata": {},
     "output_type": "execute_result"
    }
   ],
   "source": [
    "my_set = Set([1, 1, 2, 3])"
   ]
  },
  {
   "cell_type": "code",
   "execution_count": 4,
   "metadata": {},
   "outputs": [
    {
     "ename": "LoadError",
     "evalue": "MethodError: no method matching getindex(::Set{Int64}, ::Int64)",
     "output_type": "error",
     "traceback": [
      "MethodError: no method matching getindex(::Set{Int64}, ::Int64)",
      "",
      "Stacktrace:",
      " [1] top-level scope",
      "   @ In[4]:1",
      " [2] eval",
      "   @ ./boot.jl:360 [inlined]",
      " [3] include_string(mapexpr::typeof(REPL.softscope), mod::Module, code::String, filename::String)",
      "   @ Base ./loading.jl:1094"
     ]
    }
   ],
   "source": [
    "my_set[1]"
   ]
  },
  {
   "cell_type": "markdown",
   "metadata": {},
   "source": [
    "## Dictionaries\n",
    "Format is `Dict(key1 => value1, key2 => value2, ...etc)`"
   ]
  },
  {
   "cell_type": "code",
   "execution_count": 5,
   "metadata": {},
   "outputs": [
    {
     "data": {
      "text/plain": [
       "Dict{String, Float64} with 3 entries:\n",
       "  \"oranges\" => 3.5\n",
       "  \"bananas\" => 4.0\n",
       "  \"apples\"  => 1.5"
      ]
     },
     "execution_count": 5,
     "metadata": {},
     "output_type": "execute_result"
    }
   ],
   "source": [
    "prices = Dict(\"oranges\" => 3.5, \"apples\" => 1.5, \"bananas\" => 4.0)"
   ]
  },
  {
   "cell_type": "code",
   "execution_count": 6,
   "metadata": {},
   "outputs": [
    {
     "name": "stdout",
     "output_type": "stream",
     "text": [
      "oranges cost 3.5 €\n",
      "bananas cost 4.0 €\n",
      "apples cost 1.5 €\n"
     ]
    }
   ],
   "source": [
    "for k in keys(prices)\n",
    "    println(\"$k cost $(prices[k]) €\")\n",
    "end"
   ]
  },
  {
   "cell_type": "code",
   "execution_count": 7,
   "metadata": {},
   "outputs": [
    {
     "name": "stdout",
     "output_type": "stream",
     "text": [
      "One of the items costs 3.5 €\n",
      "One of the items costs 4.0 €\n",
      "One of the items costs 1.5 €\n"
     ]
    }
   ],
   "source": [
    "for v in values(prices)\n",
    "    println(\"One of the items costs $v €\")\n",
    "end"
   ]
  },
  {
   "cell_type": "code",
   "execution_count": 8,
   "metadata": {},
   "outputs": [
    {
     "data": {
      "text/plain": [
       "3-element Vector{Pair{String, Float64}}:\n",
       " \"oranges\" => 3.5\n",
       " \"bananas\" => 4.0\n",
       "  \"apples\" => 1.5"
      ]
     },
     "execution_count": 8,
     "metadata": {},
     "output_type": "execute_result"
    }
   ],
   "source": [
    "coll = collect(prices) # \"array\" of elements of a dict"
   ]
  },
  {
   "cell_type": "code",
   "execution_count": 9,
   "metadata": {},
   "outputs": [
    {
     "data": {
      "text/plain": [
       "\"oranges\" => 3.5"
      ]
     },
     "execution_count": 9,
     "metadata": {},
     "output_type": "execute_result"
    }
   ],
   "source": [
    "coll[1]"
   ]
  },
  {
   "cell_type": "code",
   "execution_count": 10,
   "metadata": {},
   "outputs": [
    {
     "data": {
      "text/plain": [
       "Dict{Int64, String} with 2 entries:\n",
       "  2 => \"b\"\n",
       "  1 => \"a\""
      ]
     },
     "metadata": {},
     "output_type": "display_data"
    },
    {
     "data": {
      "text/plain": [
       "Dict{Int64, String} with 3 entries:\n",
       "  4 => \"d\"\n",
       "  2 => \"b\"\n",
       "  3 => \"c\""
      ]
     },
     "metadata": {},
     "output_type": "display_data"
    }
   ],
   "source": [
    "d1 = Dict(1 => \"a\", 2 => \"b\") ; d2 = Dict(2 => \"b\", 3 =>\"c\", 4 => \"d\")\n",
    "display(d1)\n",
    "display(d2)"
   ]
  },
  {
   "cell_type": "code",
   "execution_count": 11,
   "metadata": {},
   "outputs": [
    {
     "data": {
      "text/plain": [
       "4-element Vector{Pair{Int64, String}}:\n",
       " 2 => \"b\"\n",
       " 1 => \"a\"\n",
       " 4 => \"d\"\n",
       " 3 => \"c\""
      ]
     },
     "execution_count": 11,
     "metadata": {},
     "output_type": "execute_result"
    }
   ],
   "source": [
    "union(d1, d2)"
   ]
  },
  {
   "cell_type": "code",
   "execution_count": 12,
   "metadata": {},
   "outputs": [
    {
     "data": {
      "text/plain": [
       "1-element Vector{Pair{Int64, String}}:\n",
       " 2 => \"b\""
      ]
     },
     "execution_count": 12,
     "metadata": {},
     "output_type": "execute_result"
    }
   ],
   "source": [
    "intersect(d1, d2)"
   ]
  },
  {
   "cell_type": "code",
   "execution_count": 13,
   "metadata": {},
   "outputs": [
    {
     "data": {
      "text/plain": [
       "2-element Vector{Pair{Int64, String}}:\n",
       " 4 => \"d\"\n",
       " 3 => \"c\""
      ]
     },
     "execution_count": 13,
     "metadata": {},
     "output_type": "execute_result"
    }
   ],
   "source": [
    "setdiff(d2, d1)"
   ]
  },
  {
   "cell_type": "markdown",
   "metadata": {},
   "source": [
    "## Arrays\n",
    "**Recall:** Arrays are mutable and ordered...life is beautiful !\\\n",
    "**Syntax:** Use square brackets ` [  ] ` and separate elements by a comma `,`"
   ]
  },
  {
   "cell_type": "code",
   "execution_count": 14,
   "metadata": {},
   "outputs": [
    {
     "data": {
      "text/plain": [
       "3-element Vector{String}:\n",
       " \"Paris\"\n",
       " \"Nice\"\n",
       " \"Monaco\""
      ]
     },
     "execution_count": 14,
     "metadata": {},
     "output_type": "execute_result"
    }
   ],
   "source": [
    "cities = [\"Paris\", \"Nice\", \"Monaco\"]"
   ]
  },
  {
   "cell_type": "code",
   "execution_count": 15,
   "metadata": {},
   "outputs": [
    {
     "data": {
      "text/plain": [
       "6-element Vector{Int64}:\n",
       " 3\n",
       " 1\n",
       " 4\n",
       " 1\n",
       " 5\n",
       " 9"
      ]
     },
     "execution_count": 15,
     "metadata": {},
     "output_type": "execute_result"
    }
   ],
   "source": [
    "pi = [3, 1, 4, 1, 5, 9]"
   ]
  },
  {
   "cell_type": "code",
   "execution_count": 16,
   "metadata": {},
   "outputs": [
    {
     "name": "stdout",
     "output_type": "stream",
     "text": [
      "the type of 1.0 is Float64\n",
      "the type of \"hell of a mess\" is String\n",
      "the type of 4 is Int64\n",
      "the type of 'u' is Char\n"
     ]
    }
   ],
   "source": [
    "println(\"the type of 1.0 is \", typeof(1.0))\n",
    "println(\"the type of \\\"hell of a mess\\\" is \", typeof(\"hell of a mess\"))\n",
    "println(\"the type of 4 is \", typeof(4))\n",
    "println(\"the type of \\'u\\' is \", typeof('u'))"
   ]
  },
  {
   "cell_type": "code",
   "execution_count": 17,
   "metadata": {},
   "outputs": [
    {
     "data": {
      "text/plain": [
       "4-element Vector{Any}:\n",
       " 1.0\n",
       "  \"hell of a mess\"\n",
       " 4\n",
       "  'u': ASCII/Unicode U+0075 (category Ll: Letter, lowercase)"
      ]
     },
     "execution_count": 17,
     "metadata": {},
     "output_type": "execute_result"
    }
   ],
   "source": [
    "user_input_is = [1.0, \"hell of a mess\", 4, 'u']"
   ]
  },
  {
   "cell_type": "code",
   "execution_count": 18,
   "metadata": {},
   "outputs": [
    {
     "data": {
      "text/plain": [
       "4-element Vector{Int64}:\n",
       " 2\n",
       " 4\n",
       " 6\n",
       " 8"
      ]
     },
     "execution_count": 18,
     "metadata": {},
     "output_type": "execute_result"
    }
   ],
   "source": [
    "[2*x for x in 1:4] # array comprehension"
   ]
  },
  {
   "cell_type": "code",
   "execution_count": 19,
   "metadata": {},
   "outputs": [
    {
     "data": {
      "text/plain": [
       "36-element Vector{Int64}:\n",
       "  6\n",
       "  7\n",
       "  8\n",
       "  9\n",
       " 10\n",
       " 11\n",
       " 12\n",
       " 13\n",
       " 14\n",
       "  8\n",
       "  9\n",
       " 10\n",
       " 11\n",
       "  ⋮\n",
       " 16\n",
       " 17\n",
       " 18\n",
       " 12\n",
       " 13\n",
       " 14\n",
       " 15\n",
       " 16\n",
       " 17\n",
       " 18\n",
       " 19\n",
       " 20"
      ]
     },
     "execution_count": 19,
     "metadata": {},
     "output_type": "execute_result"
    }
   ],
   "source": [
    "arr = [2*x + 3*y + z for x in 1:4 for y in 1:3 for z in 1:3] # multiple comprehensions"
   ]
  },
  {
   "cell_type": "code",
   "execution_count": 20,
   "metadata": {},
   "outputs": [],
   "source": [
    "arr2 = []\n",
    "for x in 1:4\n",
    "    for y in 1:3\n",
    "        append!(arr2, 2*x + 3*y)\n",
    "    end\n",
    "end"
   ]
  },
  {
   "cell_type": "code",
   "execution_count": 21,
   "metadata": {},
   "outputs": [
    {
     "data": {
      "text/plain": [
       "12-element Vector{Any}:\n",
       "  5\n",
       "  8\n",
       " 11\n",
       "  7\n",
       " 10\n",
       " 13\n",
       "  9\n",
       " 12\n",
       " 15\n",
       " 11\n",
       " 14\n",
       " 17"
      ]
     },
     "execution_count": 21,
     "metadata": {},
     "output_type": "execute_result"
    }
   ],
   "source": [
    "arr2"
   ]
  }
 ],
 "metadata": {
  "kernelspec": {
   "display_name": "Julia 1.6.0",
   "language": "julia",
   "name": "julia-1.6"
  },
  "language_info": {
   "file_extension": ".jl",
   "mimetype": "application/julia",
   "name": "julia",
   "version": "1.6.0"
  }
 },
 "nbformat": 4,
 "nbformat_minor": 4
}
