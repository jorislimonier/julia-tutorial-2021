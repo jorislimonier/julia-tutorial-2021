{
 "metadata": {
  "language_info": {
   "codemirror_mode": {
    "name": "ipython",
    "version": 3
   },
   "file_extension": ".py",
   "mimetype": "text/x-python",
   "name": "julia",
   "nbconvert_exporter": "python",
   "pygments_lexer": "ipython3",
   "version": "3.8.10"
  },
  "orig_nbformat": 4,
  "kernelspec": {
   "name": "julia-1.6",
   "display_name": "Julia 1.6.1",
   "language": "julia"
  },
  "interpreter": {
   "hash": "916dbcbb3f70747c44a77c7bcd40155683ae19c65e1c03b4aa3499c5328201f1"
  }
 },
 "nbformat": 4,
 "nbformat_minor": 2,
 "cells": [
  {
   "cell_type": "code",
   "execution_count": 4,
   "metadata": {},
   "outputs": [
    {
     "output_type": "execute_result",
     "data": {
      "text/plain": [
       "data: [\n",
       "  \"scatter with fields type, x, and y\"\n",
       "]\n",
       "\n",
       "layout: \"layout with fields margin, title, xaxis, and yaxis\"\n",
       "\n"
      ],
      "application/vnd.plotly.v1+json": {
       "layout": {
        "xaxis": {
         "title": "The X-axis"
        },
        "margin": {
         "l": 50,
         "b": 50,
         "r": 50,
         "t": 60
        },
        "title": "My title",
        "yaxis": {
         "title": "The Y-axis"
        }
       },
       "frames": [],
       "data": [
        {
         "y": [
          1,
          9,
          25,
          49
         ],
         "type": "scatter",
         "x": [
          1,
          3,
          5,
          7
         ]
        }
       ]
      }
     },
     "metadata": {},
     "execution_count": 4
    }
   ],
   "source": [
    "using PlotlyJS\n",
    "\n",
    "x = [1, 3, 5, 7]\n",
    "y = [n^2 for n in x]\n",
    "plot = Plot()\n",
    "trace = scatter(\n",
    "    x=x,\n",
    "    y=y\n",
    ")\n",
    "addtraces!(plot, trace)\n",
    "relayout!(plot, Layout(\n",
    "        title=\"My title\"),\n",
    "        xaxis=attr(title=\"The X-axis\"),\n",
    "        yaxis=attr(title=\"The Y-axis\"),\n",
    "    )\n",
    "    # title = \"figname.png\"\n",
    "    # savefig(plot, title)\n",
    "plot"
   ]
  },
  {
   "cell_type": "code",
   "execution_count": null,
   "metadata": {},
   "outputs": [],
   "source": []
  },
  {
   "cell_type": "code",
   "execution_count": null,
   "metadata": {},
   "outputs": [],
   "source": []
  },
  {
   "cell_type": "code",
   "execution_count": null,
   "metadata": {},
   "outputs": [],
   "source": []
  },
  {
   "cell_type": "code",
   "execution_count": null,
   "metadata": {},
   "outputs": [],
   "source": []
  },
  {
   "cell_type": "code",
   "execution_count": null,
   "metadata": {},
   "outputs": [],
   "source": []
  }
 ]
}