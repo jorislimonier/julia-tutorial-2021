{
 "cells": [
  {
   "cell_type": "code",
   "execution_count": 17,
   "metadata": {},
   "outputs": [],
   "source": [
    "mutable struct americanFlat\n",
    "    area::Float64 # in square feet\n",
    "    price::Float64 # in US $\n",
    "    landlord::String # Mr. Something\n",
    "end\n",
    "\n",
    "mutable struct frenchFlat\n",
    "    area::Float64 # in square meters\n",
    "    price::Float64 # in €\n",
    "    landlord::String # M. Something\n",
    "end"
   ]
  },
  {
   "cell_type": "code",
   "execution_count": 77,
   "metadata": {},
   "outputs": [
    {
     "name": "stdout",
     "output_type": "stream",
     "text": [
      "American flat:\n",
      "Area: 25.5 sq ft\n",
      "Price: 750000.0 US $\n",
      "Landlord: Mr. Turner\n",
      "---\n",
      "French flat:\n",
      "Area: 274.48 sq ft\n",
      "Price: 870000.0 US$\n",
      "Landlord: Mr. Turner\n",
      "---\n"
     ]
    }
   ],
   "source": [
    "af = americanFlat(25.5, 750000, \"Mr. Turner\")\n",
    "ff = frenchFlat(25.5, 750000, \"M. Turner\")\n",
    "\n",
    "function desc(flat::americanFlat)\n",
    "    println(\"American flat:\")\n",
    "    println(\"Area: $(flat.area) sq ft\")\n",
    "    println(\"Price: $(flat.price) US \\$\")\n",
    "    println(\"Landlord: $(flat.landlord)\")\n",
    "    println(\"---\")\n",
    "end\n",
    "\n",
    "sqft_to_sqmt = 10.7639\n",
    "eur_to_usd = 1.16\n",
    "\n",
    "function desc(flat::frenchFlat)\n",
    "    usd_price = round(flat.area*sqft_to_sqmt, digits=2)\n",
    "    sqft_area = round(flat.price*eur_to_usd, digits=2)\n",
    "    us_name = replace(flat.landlord, \"M.\"=>\"Mr.\")\n",
    "    \n",
    "    println(\"French flat:\")\n",
    "    println(\"Area: $(usd_price) sq ft\")\n",
    "    println(\"Price: $(sqft_area) US\\$\")\n",
    "    println(\"Landlord: $(us_name)\")\n",
    "    println(\"---\")\n",
    "end\n",
    "desc(af)\n",
    "desc(ff)"
   ]
  },
  {
   "cell_type": "code",
   "execution_count": null,
   "metadata": {},
   "outputs": [],
   "source": []
  },
  {
   "cell_type": "code",
   "execution_count": null,
   "metadata": {},
   "outputs": [],
   "source": []
  },
  {
   "cell_type": "code",
   "execution_count": null,
   "metadata": {},
   "outputs": [],
   "source": []
  },
  {
   "cell_type": "code",
   "execution_count": null,
   "metadata": {},
   "outputs": [],
   "source": []
  },
  {
   "cell_type": "code",
   "execution_count": null,
   "metadata": {},
   "outputs": [],
   "source": []
  }
 ],
 "metadata": {
  "interpreter": {
   "hash": "916dbcbb3f70747c44a77c7bcd40155683ae19c65e1c03b4aa3499c5328201f1"
  },
  "kernelspec": {
   "display_name": "Julia 1.6.1",
   "language": "julia",
   "name": "julia-1.6"
  },
  "language_info": {
   "file_extension": ".jl",
   "mimetype": "application/julia",
   "name": "julia",
   "version": "1.6.1"
  },
  "orig_nbformat": 4
 },
 "nbformat": 4,
 "nbformat_minor": 2
}
